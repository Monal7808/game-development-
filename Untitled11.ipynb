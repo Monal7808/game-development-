{
  "nbformat": 4,
  "nbformat_minor": 0,
  "metadata": {
    "colab": {
      "name": "Untitled11.ipynb",
      "provenance": [],
      "authorship_tag": "ABX9TyMY8PrqWxG80AatM3oXLLP/",
      "include_colab_link": true
    },
    "kernelspec": {
      "name": "python3",
      "display_name": "Python 3"
    },
    "language_info": {
      "name": "python"
    }
  },
  "cells": [
    {
      "cell_type": "markdown",
      "metadata": {
        "id": "view-in-github",
        "colab_type": "text"
      },
      "source": [
        "<a href=\"https://colab.research.google.com/github/Monal7808/game-development-/blob/main/Untitled11.ipynb\" target=\"_parent\"><img src=\"https://colab.research.google.com/assets/colab-badge.svg\" alt=\"Open In Colab\"/></a>"
      ]
    },
    {
      "cell_type": "code",
      "execution_count": 4,
      "metadata": {
        "colab": {
          "base_uri": "https://localhost:8080/"
        },
        "id": "mtltwEtM0RKC",
        "outputId": "e5d985a2-103a-456a-cc33-7a1ecd6c0453"
      },
      "outputs": [
        {
          "output_type": "stream",
          "name": "stdout",
          "text": [
            "enter your first number\n",
            "23\n",
            "enter your second number\n",
            "2\n",
            "+,-,*\n",
            "+\n",
            "20\n"
          ]
        }
      ],
      "source": [
        "print(\"enter your first number\")\n",
        "n1=int(input())\n",
        "print(\"enter your second number\")\n",
        "n2=int(input())\n",
        "print(\"+,-,*\")\n",
        "n3=input()\n",
        "if n1==23 and n2==2 and n3==\"+\":\n",
        "  print(\"20\")\n",
        "elif n1==12 and n2==2 and n3==\"-\":\n",
        "  print(\"23\")\n",
        "elif n1==12 and n2==4 and n3==\"*\":\n",
        "  print(\"45\")\n",
        "elif n3==\"+\":\n",
        "  print(n1+n2)\n",
        "elif n3==\"-\":\n",
        "  print(n1-n2)\n",
        "elif n3==\"*\":\n",
        "  print(n1*n2)\n",
        "else:\n",
        "  print(error)  \n"
      ]
    }
  ]
}